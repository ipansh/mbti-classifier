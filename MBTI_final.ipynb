{
 "cells": [
  {
   "cell_type": "code",
   "execution_count": 397,
   "source": [
    "import warnings\n",
    "warnings.simplefilter(action='ignore', category=FutureWarning)\n",
    "\n",
    "import pandas as pd\n",
    "\n",
    "# Import all we need from sklearn\n",
    "from sklearn.feature_extraction.text import CountVectorizer, TfidfVectorizer\n",
    "from sklearn.model_selection import train_test_split\n",
    "from sklearn.svm import LinearSVC\n",
    "from xgboost import XGBClassifier\n",
    "from sklearn.ensemble import RandomForestClassifier\n",
    "from sklearn.preprocessing import MinMaxScaler\n",
    "\n",
    "from sklearn import metrics\n",
    "from sklearn.utils import shuffle\n",
    "\n",
    "import nltk\n",
    "import re\n",
    "from nltk.corpus import stopwords\n",
    "\n",
    "from nltk.stem import WordNetLemmatizer\n",
    "from nltk.stem import PorterStemmer\n",
    "nltk.download('wordnet')\n",
    "\n",
    "import spacy\n",
    "import scipy\n",
    "\n",
    "pd.set_option('max_colwidth', 400)\n",
    "\n",
    "nlp = spacy.load(\"en_core_web_sm\")"
   ],
   "outputs": [
    {
     "output_type": "stream",
     "name": "stderr",
     "text": [
      "[nltk_data] Downloading package wordnet to /Users/ilya/nltk_data...\n",
      "[nltk_data]   Package wordnet is already up-to-date!\n"
     ]
    }
   ],
   "metadata": {}
  },
  {
   "cell_type": "code",
   "execution_count": 398,
   "source": [
    "df = pd.read_csv('/Users/ilya/Downloads/mbti_1.csv')\n",
    "\n",
    "df.loc[:,'IE'] = [x[0:1] for x in df['type']]\n",
    "df.loc[:,'NS'] = [x[1:2] for x in df['type']]\n",
    "df.loc[:,'TF'] = [x[2:3] for x in df['type']]\n",
    "df.loc[:,'JP'] = [x[3:4] for x in df['type']]\n",
    "df.head()"
   ],
   "outputs": [
    {
     "output_type": "execute_result",
     "data": {
      "text/html": [
       "<div>\n",
       "<style scoped>\n",
       "    .dataframe tbody tr th:only-of-type {\n",
       "        vertical-align: middle;\n",
       "    }\n",
       "\n",
       "    .dataframe tbody tr th {\n",
       "        vertical-align: top;\n",
       "    }\n",
       "\n",
       "    .dataframe thead th {\n",
       "        text-align: right;\n",
       "    }\n",
       "</style>\n",
       "<table border=\"1\" class=\"dataframe\">\n",
       "  <thead>\n",
       "    <tr style=\"text-align: right;\">\n",
       "      <th></th>\n",
       "      <th>type</th>\n",
       "      <th>posts</th>\n",
       "      <th>IE</th>\n",
       "      <th>NS</th>\n",
       "      <th>TF</th>\n",
       "      <th>JP</th>\n",
       "    </tr>\n",
       "  </thead>\n",
       "  <tbody>\n",
       "    <tr>\n",
       "      <th>0</th>\n",
       "      <td>INFJ</td>\n",
       "      <td>'http://www.youtube.com/watch?v=qsXHcwe3krw|||http://41.media.tumblr.com/tumblr_lfouy03PMA1qa1rooo1_500.jpg|||enfp and intj moments  https://www.youtube.com/watch?v=iz7lE1g4XM4  sportscenter not top ten plays  https://www.youtube.com/watch?v=uCdfze1etec  pranks|||What has been the most life-changing experience in your life?|||http://www.youtube.com/watch?v=vXZeYwwRDw8   http://www.youtube.com/...</td>\n",
       "      <td>I</td>\n",
       "      <td>N</td>\n",
       "      <td>F</td>\n",
       "      <td>J</td>\n",
       "    </tr>\n",
       "    <tr>\n",
       "      <th>1</th>\n",
       "      <td>ENTP</td>\n",
       "      <td>'I'm finding the lack of me in these posts very alarming.|||Sex can be boring if it's in the same position often. For example me and my girlfriend are currently in an environment where we have to creatively use cowgirl and missionary. There isn't enough...|||Giving new meaning to 'Game' theory.|||Hello *ENTP Grin*  That's all it takes. Than we converse and they do most of the flirting while I ...</td>\n",
       "      <td>E</td>\n",
       "      <td>N</td>\n",
       "      <td>T</td>\n",
       "      <td>P</td>\n",
       "    </tr>\n",
       "    <tr>\n",
       "      <th>2</th>\n",
       "      <td>INTP</td>\n",
       "      <td>'Good one  _____   https://www.youtube.com/watch?v=fHiGbolFFGw|||Of course, to which I say I know; that's my blessing and my curse.|||Does being absolutely positive that you and your best friend could be an amazing couple count? If so, than yes.   Or it's more I could be madly in love in case I reconciled my feelings (which at...|||No, I didn't; thank you for a link!|||So-called Ti-Si loop (an...</td>\n",
       "      <td>I</td>\n",
       "      <td>N</td>\n",
       "      <td>T</td>\n",
       "      <td>P</td>\n",
       "    </tr>\n",
       "    <tr>\n",
       "      <th>3</th>\n",
       "      <td>INTJ</td>\n",
       "      <td>'Dear INTP,   I enjoyed our conversation the other day.  Esoteric gabbing about the nature of the universe and the idea that every rule and social code being arbitrary constructs created...|||Dear ENTJ sub,   Long time no see.  Sincerely, Alpha|||None of them. All other types hurt in deep existential ways that I want no part of.|||Probably a sliding scale that depends on individual preferences...</td>\n",
       "      <td>I</td>\n",
       "      <td>N</td>\n",
       "      <td>T</td>\n",
       "      <td>J</td>\n",
       "    </tr>\n",
       "    <tr>\n",
       "      <th>4</th>\n",
       "      <td>ENTJ</td>\n",
       "      <td>'You're fired.|||That's another silly misconception. That approaching is logically is going to be the key to unlocking whatever it is you think you are entitled to.   Nobody wants to be approached with BS...|||But guys... he REALLY wants to go on a super-duper-long-ass vacation. C'mon guys. His boss just doesn't listen or get it. He even approached him logically and everything.|||Never mind. J...</td>\n",
       "      <td>E</td>\n",
       "      <td>N</td>\n",
       "      <td>T</td>\n",
       "      <td>J</td>\n",
       "    </tr>\n",
       "  </tbody>\n",
       "</table>\n",
       "</div>"
      ],
      "text/plain": [
       "   type  \\\n",
       "0  INFJ   \n",
       "1  ENTP   \n",
       "2  INTP   \n",
       "3  INTJ   \n",
       "4  ENTJ   \n",
       "\n",
       "                                                                                                                                                                                                                                                                                                                                                                                                             posts  \\\n",
       "0  'http://www.youtube.com/watch?v=qsXHcwe3krw|||http://41.media.tumblr.com/tumblr_lfouy03PMA1qa1rooo1_500.jpg|||enfp and intj moments  https://www.youtube.com/watch?v=iz7lE1g4XM4  sportscenter not top ten plays  https://www.youtube.com/watch?v=uCdfze1etec  pranks|||What has been the most life-changing experience in your life?|||http://www.youtube.com/watch?v=vXZeYwwRDw8   http://www.youtube.com/...   \n",
       "1  'I'm finding the lack of me in these posts very alarming.|||Sex can be boring if it's in the same position often. For example me and my girlfriend are currently in an environment where we have to creatively use cowgirl and missionary. There isn't enough...|||Giving new meaning to 'Game' theory.|||Hello *ENTP Grin*  That's all it takes. Than we converse and they do most of the flirting while I ...   \n",
       "2  'Good one  _____   https://www.youtube.com/watch?v=fHiGbolFFGw|||Of course, to which I say I know; that's my blessing and my curse.|||Does being absolutely positive that you and your best friend could be an amazing couple count? If so, than yes.   Or it's more I could be madly in love in case I reconciled my feelings (which at...|||No, I didn't; thank you for a link!|||So-called Ti-Si loop (an...   \n",
       "3  'Dear INTP,   I enjoyed our conversation the other day.  Esoteric gabbing about the nature of the universe and the idea that every rule and social code being arbitrary constructs created...|||Dear ENTJ sub,   Long time no see.  Sincerely, Alpha|||None of them. All other types hurt in deep existential ways that I want no part of.|||Probably a sliding scale that depends on individual preferences...   \n",
       "4  'You're fired.|||That's another silly misconception. That approaching is logically is going to be the key to unlocking whatever it is you think you are entitled to.   Nobody wants to be approached with BS...|||But guys... he REALLY wants to go on a super-duper-long-ass vacation. C'mon guys. His boss just doesn't listen or get it. He even approached him logically and everything.|||Never mind. J...   \n",
       "\n",
       "  IE NS TF JP  \n",
       "0  I  N  F  J  \n",
       "1  E  N  T  P  \n",
       "2  I  N  T  P  \n",
       "3  I  N  T  J  \n",
       "4  E  N  T  J  "
      ]
     },
     "metadata": {},
     "execution_count": 398
    }
   ],
   "metadata": {}
  },
  {
   "cell_type": "code",
   "execution_count": 399,
   "source": [
    "df.loc[:,'html_link'] = [post.count('html') for post in df['posts']]\n",
    "df.loc[:,'words_per_comment'] = [len(post.split(' '))/50 for post in df['posts']]\n",
    "df.loc[:,'exclam_mark'] = [post.count('!') for post in df['posts']]\n",
    "df.loc[:,'question_mark'] = [post.count('?') for post in df['posts']]\n",
    "df.head(4)"
   ],
   "outputs": [
    {
     "output_type": "execute_result",
     "data": {
      "text/html": [
       "<div>\n",
       "<style scoped>\n",
       "    .dataframe tbody tr th:only-of-type {\n",
       "        vertical-align: middle;\n",
       "    }\n",
       "\n",
       "    .dataframe tbody tr th {\n",
       "        vertical-align: top;\n",
       "    }\n",
       "\n",
       "    .dataframe thead th {\n",
       "        text-align: right;\n",
       "    }\n",
       "</style>\n",
       "<table border=\"1\" class=\"dataframe\">\n",
       "  <thead>\n",
       "    <tr style=\"text-align: right;\">\n",
       "      <th></th>\n",
       "      <th>type</th>\n",
       "      <th>posts</th>\n",
       "      <th>IE</th>\n",
       "      <th>NS</th>\n",
       "      <th>TF</th>\n",
       "      <th>JP</th>\n",
       "      <th>html_link</th>\n",
       "      <th>words_per_comment</th>\n",
       "      <th>exclam_mark</th>\n",
       "      <th>question_mark</th>\n",
       "    </tr>\n",
       "  </thead>\n",
       "  <tbody>\n",
       "    <tr>\n",
       "      <th>0</th>\n",
       "      <td>INFJ</td>\n",
       "      <td>'http://www.youtube.com/watch?v=qsXHcwe3krw|||http://41.media.tumblr.com/tumblr_lfouy03PMA1qa1rooo1_500.jpg|||enfp and intj moments  https://www.youtube.com/watch?v=iz7lE1g4XM4  sportscenter not top ten plays  https://www.youtube.com/watch?v=uCdfze1etec  pranks|||What has been the most life-changing experience in your life?|||http://www.youtube.com/watch?v=vXZeYwwRDw8   http://www.youtube.com/...</td>\n",
       "      <td>I</td>\n",
       "      <td>N</td>\n",
       "      <td>F</td>\n",
       "      <td>J</td>\n",
       "      <td>0</td>\n",
       "      <td>11.56</td>\n",
       "      <td>3</td>\n",
       "      <td>18</td>\n",
       "    </tr>\n",
       "    <tr>\n",
       "      <th>1</th>\n",
       "      <td>ENTP</td>\n",
       "      <td>'I'm finding the lack of me in these posts very alarming.|||Sex can be boring if it's in the same position often. For example me and my girlfriend are currently in an environment where we have to creatively use cowgirl and missionary. There isn't enough...|||Giving new meaning to 'Game' theory.|||Hello *ENTP Grin*  That's all it takes. Than we converse and they do most of the flirting while I ...</td>\n",
       "      <td>E</td>\n",
       "      <td>N</td>\n",
       "      <td>T</td>\n",
       "      <td>P</td>\n",
       "      <td>0</td>\n",
       "      <td>23.88</td>\n",
       "      <td>0</td>\n",
       "      <td>5</td>\n",
       "    </tr>\n",
       "    <tr>\n",
       "      <th>2</th>\n",
       "      <td>INTP</td>\n",
       "      <td>'Good one  _____   https://www.youtube.com/watch?v=fHiGbolFFGw|||Of course, to which I say I know; that's my blessing and my curse.|||Does being absolutely positive that you and your best friend could be an amazing couple count? If so, than yes.   Or it's more I could be madly in love in case I reconciled my feelings (which at...|||No, I didn't; thank you for a link!|||So-called Ti-Si loop (an...</td>\n",
       "      <td>I</td>\n",
       "      <td>N</td>\n",
       "      <td>T</td>\n",
       "      <td>P</td>\n",
       "      <td>0</td>\n",
       "      <td>17.38</td>\n",
       "      <td>4</td>\n",
       "      <td>12</td>\n",
       "    </tr>\n",
       "    <tr>\n",
       "      <th>3</th>\n",
       "      <td>INTJ</td>\n",
       "      <td>'Dear INTP,   I enjoyed our conversation the other day.  Esoteric gabbing about the nature of the universe and the idea that every rule and social code being arbitrary constructs created...|||Dear ENTJ sub,   Long time no see.  Sincerely, Alpha|||None of them. All other types hurt in deep existential ways that I want no part of.|||Probably a sliding scale that depends on individual preferences...</td>\n",
       "      <td>I</td>\n",
       "      <td>N</td>\n",
       "      <td>T</td>\n",
       "      <td>J</td>\n",
       "      <td>0</td>\n",
       "      <td>22.02</td>\n",
       "      <td>3</td>\n",
       "      <td>11</td>\n",
       "    </tr>\n",
       "  </tbody>\n",
       "</table>\n",
       "</div>"
      ],
      "text/plain": [
       "   type  \\\n",
       "0  INFJ   \n",
       "1  ENTP   \n",
       "2  INTP   \n",
       "3  INTJ   \n",
       "\n",
       "                                                                                                                                                                                                                                                                                                                                                                                                             posts  \\\n",
       "0  'http://www.youtube.com/watch?v=qsXHcwe3krw|||http://41.media.tumblr.com/tumblr_lfouy03PMA1qa1rooo1_500.jpg|||enfp and intj moments  https://www.youtube.com/watch?v=iz7lE1g4XM4  sportscenter not top ten plays  https://www.youtube.com/watch?v=uCdfze1etec  pranks|||What has been the most life-changing experience in your life?|||http://www.youtube.com/watch?v=vXZeYwwRDw8   http://www.youtube.com/...   \n",
       "1  'I'm finding the lack of me in these posts very alarming.|||Sex can be boring if it's in the same position often. For example me and my girlfriend are currently in an environment where we have to creatively use cowgirl and missionary. There isn't enough...|||Giving new meaning to 'Game' theory.|||Hello *ENTP Grin*  That's all it takes. Than we converse and they do most of the flirting while I ...   \n",
       "2  'Good one  _____   https://www.youtube.com/watch?v=fHiGbolFFGw|||Of course, to which I say I know; that's my blessing and my curse.|||Does being absolutely positive that you and your best friend could be an amazing couple count? If so, than yes.   Or it's more I could be madly in love in case I reconciled my feelings (which at...|||No, I didn't; thank you for a link!|||So-called Ti-Si loop (an...   \n",
       "3  'Dear INTP,   I enjoyed our conversation the other day.  Esoteric gabbing about the nature of the universe and the idea that every rule and social code being arbitrary constructs created...|||Dear ENTJ sub,   Long time no see.  Sincerely, Alpha|||None of them. All other types hurt in deep existential ways that I want no part of.|||Probably a sliding scale that depends on individual preferences...   \n",
       "\n",
       "  IE NS TF JP  html_link  words_per_comment  exclam_mark  question_mark  \n",
       "0  I  N  F  J          0              11.56            3             18  \n",
       "1  E  N  T  P          0              23.88            0              5  \n",
       "2  I  N  T  P          0              17.38            4             12  \n",
       "3  I  N  T  J          0              22.02            3             11  "
      ]
     },
     "metadata": {},
     "execution_count": 399
    }
   ],
   "metadata": {}
  },
  {
   "cell_type": "code",
   "execution_count": 400,
   "source": [
    "ie_df = df.groupby('IE').count().reset_index()[['IE','type']].rename(columns = {'type':'count','IE':'type'})\n",
    "ie_df['group'] = 'IE'\n",
    "\n",
    "ns_df = df.groupby('NS').count().reset_index()[['NS','type']].rename(columns = {'type':'count','NS':'type'})\n",
    "ns_df['group'] = 'NS'\n",
    "\n",
    "tf_df = df.groupby('TF').count().reset_index()[['TF','type']].rename(columns = {'type':'count','TF':'type'})\n",
    "tf_df['group'] = 'TF'\n",
    "\n",
    "jp_df = df.groupby('JP').count().reset_index()[['JP','type']].rename(columns = {'type':'count','JP':'type'})\n",
    "jp_df['group'] = 'JP'\n",
    "\n",
    "stat_df = ie_df.append(ns_df).append(tf_df).append(jp_df)\n",
    "\n",
    "stat_df.loc[:,'percentage'] = [round(x/len(df)*100,2) for x in stat_df['count']]\n",
    "\n",
    "fig = px.bar(stat_df, x=\"group\", y=\"count\", color=\"type\", title=\"Long-Form Input\", text = 'percentage')\n",
    "\n",
    "fig.update_layout(height = 600, width = 800)\n",
    "\n",
    "fig.show()"
   ],
   "outputs": [
    {
     "output_type": "display_data",
     "data": {
      "application/vnd.plotly.v1+json": {
       "config": {
        "plotlyServerURL": "https://plot.ly"
       },
       "data": [
        {
         "alignmentgroup": "True",
         "hoverlabel": {
          "namelength": 0
         },
         "hovertemplate": "type=E<br>group=%{x}<br>count=%{y}<br>percentage=%{text}",
         "legendgroup": "type=E",
         "marker": {
          "color": "#636efa"
         },
         "name": "type=E",
         "offsetgroup": "type=E",
         "orientation": "v",
         "showlegend": true,
         "text": [
          23.04
         ],
         "textposition": "auto",
         "type": "bar",
         "x": [
          "IE"
         ],
         "xaxis": "x",
         "y": [
          1999
         ],
         "yaxis": "y"
        },
        {
         "alignmentgroup": "True",
         "hoverlabel": {
          "namelength": 0
         },
         "hovertemplate": "type=I<br>group=%{x}<br>count=%{y}<br>percentage=%{text}",
         "legendgroup": "type=I",
         "marker": {
          "color": "#EF553B"
         },
         "name": "type=I",
         "offsetgroup": "type=I",
         "orientation": "v",
         "showlegend": true,
         "text": [
          76.96
         ],
         "textposition": "auto",
         "type": "bar",
         "x": [
          "IE"
         ],
         "xaxis": "x",
         "y": [
          6676
         ],
         "yaxis": "y"
        },
        {
         "alignmentgroup": "True",
         "hoverlabel": {
          "namelength": 0
         },
         "hovertemplate": "type=N<br>group=%{x}<br>count=%{y}<br>percentage=%{text}",
         "legendgroup": "type=N",
         "marker": {
          "color": "#00cc96"
         },
         "name": "type=N",
         "offsetgroup": "type=N",
         "orientation": "v",
         "showlegend": true,
         "text": [
          86.2
         ],
         "textposition": "auto",
         "type": "bar",
         "x": [
          "NS"
         ],
         "xaxis": "x",
         "y": [
          7478
         ],
         "yaxis": "y"
        },
        {
         "alignmentgroup": "True",
         "hoverlabel": {
          "namelength": 0
         },
         "hovertemplate": "type=S<br>group=%{x}<br>count=%{y}<br>percentage=%{text}",
         "legendgroup": "type=S",
         "marker": {
          "color": "#ab63fa"
         },
         "name": "type=S",
         "offsetgroup": "type=S",
         "orientation": "v",
         "showlegend": true,
         "text": [
          13.8
         ],
         "textposition": "auto",
         "type": "bar",
         "x": [
          "NS"
         ],
         "xaxis": "x",
         "y": [
          1197
         ],
         "yaxis": "y"
        },
        {
         "alignmentgroup": "True",
         "hoverlabel": {
          "namelength": 0
         },
         "hovertemplate": "type=F<br>group=%{x}<br>count=%{y}<br>percentage=%{text}",
         "legendgroup": "type=F",
         "marker": {
          "color": "#FFA15A"
         },
         "name": "type=F",
         "offsetgroup": "type=F",
         "orientation": "v",
         "showlegend": true,
         "text": [
          54.11
         ],
         "textposition": "auto",
         "type": "bar",
         "x": [
          "TF"
         ],
         "xaxis": "x",
         "y": [
          4694
         ],
         "yaxis": "y"
        },
        {
         "alignmentgroup": "True",
         "hoverlabel": {
          "namelength": 0
         },
         "hovertemplate": "type=T<br>group=%{x}<br>count=%{y}<br>percentage=%{text}",
         "legendgroup": "type=T",
         "marker": {
          "color": "#19d3f3"
         },
         "name": "type=T",
         "offsetgroup": "type=T",
         "orientation": "v",
         "showlegend": true,
         "text": [
          45.89
         ],
         "textposition": "auto",
         "type": "bar",
         "x": [
          "TF"
         ],
         "xaxis": "x",
         "y": [
          3981
         ],
         "yaxis": "y"
        },
        {
         "alignmentgroup": "True",
         "hoverlabel": {
          "namelength": 0
         },
         "hovertemplate": "type=J<br>group=%{x}<br>count=%{y}<br>percentage=%{text}",
         "legendgroup": "type=J",
         "marker": {
          "color": "#FF6692"
         },
         "name": "type=J",
         "offsetgroup": "type=J",
         "orientation": "v",
         "showlegend": true,
         "text": [
          39.59
         ],
         "textposition": "auto",
         "type": "bar",
         "x": [
          "JP"
         ],
         "xaxis": "x",
         "y": [
          3434
         ],
         "yaxis": "y"
        },
        {
         "alignmentgroup": "True",
         "hoverlabel": {
          "namelength": 0
         },
         "hovertemplate": "type=P<br>group=%{x}<br>count=%{y}<br>percentage=%{text}",
         "legendgroup": "type=P",
         "marker": {
          "color": "#B6E880"
         },
         "name": "type=P",
         "offsetgroup": "type=P",
         "orientation": "v",
         "showlegend": true,
         "text": [
          60.41
         ],
         "textposition": "auto",
         "type": "bar",
         "x": [
          "JP"
         ],
         "xaxis": "x",
         "y": [
          5241
         ],
         "yaxis": "y"
        }
       ],
       "layout": {
        "barmode": "relative",
        "height": 600,
        "legend": {
         "tracegroupgap": 0
        },
        "template": {
         "data": {
          "bar": [
           {
            "error_x": {
             "color": "#2a3f5f"
            },
            "error_y": {
             "color": "#2a3f5f"
            },
            "marker": {
             "line": {
              "color": "#E5ECF6",
              "width": 0.5
             }
            },
            "type": "bar"
           }
          ],
          "barpolar": [
           {
            "marker": {
             "line": {
              "color": "#E5ECF6",
              "width": 0.5
             }
            },
            "type": "barpolar"
           }
          ],
          "carpet": [
           {
            "aaxis": {
             "endlinecolor": "#2a3f5f",
             "gridcolor": "white",
             "linecolor": "white",
             "minorgridcolor": "white",
             "startlinecolor": "#2a3f5f"
            },
            "baxis": {
             "endlinecolor": "#2a3f5f",
             "gridcolor": "white",
             "linecolor": "white",
             "minorgridcolor": "white",
             "startlinecolor": "#2a3f5f"
            },
            "type": "carpet"
           }
          ],
          "choropleth": [
           {
            "colorbar": {
             "outlinewidth": 0,
             "ticks": ""
            },
            "type": "choropleth"
           }
          ],
          "contour": [
           {
            "colorbar": {
             "outlinewidth": 0,
             "ticks": ""
            },
            "colorscale": [
             [
              0,
              "#0d0887"
             ],
             [
              0.1111111111111111,
              "#46039f"
             ],
             [
              0.2222222222222222,
              "#7201a8"
             ],
             [
              0.3333333333333333,
              "#9c179e"
             ],
             [
              0.4444444444444444,
              "#bd3786"
             ],
             [
              0.5555555555555556,
              "#d8576b"
             ],
             [
              0.6666666666666666,
              "#ed7953"
             ],
             [
              0.7777777777777778,
              "#fb9f3a"
             ],
             [
              0.8888888888888888,
              "#fdca26"
             ],
             [
              1,
              "#f0f921"
             ]
            ],
            "type": "contour"
           }
          ],
          "contourcarpet": [
           {
            "colorbar": {
             "outlinewidth": 0,
             "ticks": ""
            },
            "type": "contourcarpet"
           }
          ],
          "heatmap": [
           {
            "colorbar": {
             "outlinewidth": 0,
             "ticks": ""
            },
            "colorscale": [
             [
              0,
              "#0d0887"
             ],
             [
              0.1111111111111111,
              "#46039f"
             ],
             [
              0.2222222222222222,
              "#7201a8"
             ],
             [
              0.3333333333333333,
              "#9c179e"
             ],
             [
              0.4444444444444444,
              "#bd3786"
             ],
             [
              0.5555555555555556,
              "#d8576b"
             ],
             [
              0.6666666666666666,
              "#ed7953"
             ],
             [
              0.7777777777777778,
              "#fb9f3a"
             ],
             [
              0.8888888888888888,
              "#fdca26"
             ],
             [
              1,
              "#f0f921"
             ]
            ],
            "type": "heatmap"
           }
          ],
          "heatmapgl": [
           {
            "colorbar": {
             "outlinewidth": 0,
             "ticks": ""
            },
            "colorscale": [
             [
              0,
              "#0d0887"
             ],
             [
              0.1111111111111111,
              "#46039f"
             ],
             [
              0.2222222222222222,
              "#7201a8"
             ],
             [
              0.3333333333333333,
              "#9c179e"
             ],
             [
              0.4444444444444444,
              "#bd3786"
             ],
             [
              0.5555555555555556,
              "#d8576b"
             ],
             [
              0.6666666666666666,
              "#ed7953"
             ],
             [
              0.7777777777777778,
              "#fb9f3a"
             ],
             [
              0.8888888888888888,
              "#fdca26"
             ],
             [
              1,
              "#f0f921"
             ]
            ],
            "type": "heatmapgl"
           }
          ],
          "histogram": [
           {
            "marker": {
             "colorbar": {
              "outlinewidth": 0,
              "ticks": ""
             }
            },
            "type": "histogram"
           }
          ],
          "histogram2d": [
           {
            "colorbar": {
             "outlinewidth": 0,
             "ticks": ""
            },
            "colorscale": [
             [
              0,
              "#0d0887"
             ],
             [
              0.1111111111111111,
              "#46039f"
             ],
             [
              0.2222222222222222,
              "#7201a8"
             ],
             [
              0.3333333333333333,
              "#9c179e"
             ],
             [
              0.4444444444444444,
              "#bd3786"
             ],
             [
              0.5555555555555556,
              "#d8576b"
             ],
             [
              0.6666666666666666,
              "#ed7953"
             ],
             [
              0.7777777777777778,
              "#fb9f3a"
             ],
             [
              0.8888888888888888,
              "#fdca26"
             ],
             [
              1,
              "#f0f921"
             ]
            ],
            "type": "histogram2d"
           }
          ],
          "histogram2dcontour": [
           {
            "colorbar": {
             "outlinewidth": 0,
             "ticks": ""
            },
            "colorscale": [
             [
              0,
              "#0d0887"
             ],
             [
              0.1111111111111111,
              "#46039f"
             ],
             [
              0.2222222222222222,
              "#7201a8"
             ],
             [
              0.3333333333333333,
              "#9c179e"
             ],
             [
              0.4444444444444444,
              "#bd3786"
             ],
             [
              0.5555555555555556,
              "#d8576b"
             ],
             [
              0.6666666666666666,
              "#ed7953"
             ],
             [
              0.7777777777777778,
              "#fb9f3a"
             ],
             [
              0.8888888888888888,
              "#fdca26"
             ],
             [
              1,
              "#f0f921"
             ]
            ],
            "type": "histogram2dcontour"
           }
          ],
          "mesh3d": [
           {
            "colorbar": {
             "outlinewidth": 0,
             "ticks": ""
            },
            "type": "mesh3d"
           }
          ],
          "parcoords": [
           {
            "line": {
             "colorbar": {
              "outlinewidth": 0,
              "ticks": ""
             }
            },
            "type": "parcoords"
           }
          ],
          "pie": [
           {
            "automargin": true,
            "type": "pie"
           }
          ],
          "scatter": [
           {
            "marker": {
             "colorbar": {
              "outlinewidth": 0,
              "ticks": ""
             }
            },
            "type": "scatter"
           }
          ],
          "scatter3d": [
           {
            "line": {
             "colorbar": {
              "outlinewidth": 0,
              "ticks": ""
             }
            },
            "marker": {
             "colorbar": {
              "outlinewidth": 0,
              "ticks": ""
             }
            },
            "type": "scatter3d"
           }
          ],
          "scattercarpet": [
           {
            "marker": {
             "colorbar": {
              "outlinewidth": 0,
              "ticks": ""
             }
            },
            "type": "scattercarpet"
           }
          ],
          "scattergeo": [
           {
            "marker": {
             "colorbar": {
              "outlinewidth": 0,
              "ticks": ""
             }
            },
            "type": "scattergeo"
           }
          ],
          "scattergl": [
           {
            "marker": {
             "colorbar": {
              "outlinewidth": 0,
              "ticks": ""
             }
            },
            "type": "scattergl"
           }
          ],
          "scattermapbox": [
           {
            "marker": {
             "colorbar": {
              "outlinewidth": 0,
              "ticks": ""
             }
            },
            "type": "scattermapbox"
           }
          ],
          "scatterpolar": [
           {
            "marker": {
             "colorbar": {
              "outlinewidth": 0,
              "ticks": ""
             }
            },
            "type": "scatterpolar"
           }
          ],
          "scatterpolargl": [
           {
            "marker": {
             "colorbar": {
              "outlinewidth": 0,
              "ticks": ""
             }
            },
            "type": "scatterpolargl"
           }
          ],
          "scatterternary": [
           {
            "marker": {
             "colorbar": {
              "outlinewidth": 0,
              "ticks": ""
             }
            },
            "type": "scatterternary"
           }
          ],
          "surface": [
           {
            "colorbar": {
             "outlinewidth": 0,
             "ticks": ""
            },
            "colorscale": [
             [
              0,
              "#0d0887"
             ],
             [
              0.1111111111111111,
              "#46039f"
             ],
             [
              0.2222222222222222,
              "#7201a8"
             ],
             [
              0.3333333333333333,
              "#9c179e"
             ],
             [
              0.4444444444444444,
              "#bd3786"
             ],
             [
              0.5555555555555556,
              "#d8576b"
             ],
             [
              0.6666666666666666,
              "#ed7953"
             ],
             [
              0.7777777777777778,
              "#fb9f3a"
             ],
             [
              0.8888888888888888,
              "#fdca26"
             ],
             [
              1,
              "#f0f921"
             ]
            ],
            "type": "surface"
           }
          ],
          "table": [
           {
            "cells": {
             "fill": {
              "color": "#EBF0F8"
             },
             "line": {
              "color": "white"
             }
            },
            "header": {
             "fill": {
              "color": "#C8D4E3"
             },
             "line": {
              "color": "white"
             }
            },
            "type": "table"
           }
          ]
         },
         "layout": {
          "annotationdefaults": {
           "arrowcolor": "#2a3f5f",
           "arrowhead": 0,
           "arrowwidth": 1
          },
          "coloraxis": {
           "colorbar": {
            "outlinewidth": 0,
            "ticks": ""
           }
          },
          "colorscale": {
           "diverging": [
            [
             0,
             "#8e0152"
            ],
            [
             0.1,
             "#c51b7d"
            ],
            [
             0.2,
             "#de77ae"
            ],
            [
             0.3,
             "#f1b6da"
            ],
            [
             0.4,
             "#fde0ef"
            ],
            [
             0.5,
             "#f7f7f7"
            ],
            [
             0.6,
             "#e6f5d0"
            ],
            [
             0.7,
             "#b8e186"
            ],
            [
             0.8,
             "#7fbc41"
            ],
            [
             0.9,
             "#4d9221"
            ],
            [
             1,
             "#276419"
            ]
           ],
           "sequential": [
            [
             0,
             "#0d0887"
            ],
            [
             0.1111111111111111,
             "#46039f"
            ],
            [
             0.2222222222222222,
             "#7201a8"
            ],
            [
             0.3333333333333333,
             "#9c179e"
            ],
            [
             0.4444444444444444,
             "#bd3786"
            ],
            [
             0.5555555555555556,
             "#d8576b"
            ],
            [
             0.6666666666666666,
             "#ed7953"
            ],
            [
             0.7777777777777778,
             "#fb9f3a"
            ],
            [
             0.8888888888888888,
             "#fdca26"
            ],
            [
             1,
             "#f0f921"
            ]
           ],
           "sequentialminus": [
            [
             0,
             "#0d0887"
            ],
            [
             0.1111111111111111,
             "#46039f"
            ],
            [
             0.2222222222222222,
             "#7201a8"
            ],
            [
             0.3333333333333333,
             "#9c179e"
            ],
            [
             0.4444444444444444,
             "#bd3786"
            ],
            [
             0.5555555555555556,
             "#d8576b"
            ],
            [
             0.6666666666666666,
             "#ed7953"
            ],
            [
             0.7777777777777778,
             "#fb9f3a"
            ],
            [
             0.8888888888888888,
             "#fdca26"
            ],
            [
             1,
             "#f0f921"
            ]
           ]
          },
          "colorway": [
           "#636efa",
           "#EF553B",
           "#00cc96",
           "#ab63fa",
           "#FFA15A",
           "#19d3f3",
           "#FF6692",
           "#B6E880",
           "#FF97FF",
           "#FECB52"
          ],
          "font": {
           "color": "#2a3f5f"
          },
          "geo": {
           "bgcolor": "white",
           "lakecolor": "white",
           "landcolor": "#E5ECF6",
           "showlakes": true,
           "showland": true,
           "subunitcolor": "white"
          },
          "hoverlabel": {
           "align": "left"
          },
          "hovermode": "closest",
          "mapbox": {
           "style": "light"
          },
          "paper_bgcolor": "white",
          "plot_bgcolor": "#E5ECF6",
          "polar": {
           "angularaxis": {
            "gridcolor": "white",
            "linecolor": "white",
            "ticks": ""
           },
           "bgcolor": "#E5ECF6",
           "radialaxis": {
            "gridcolor": "white",
            "linecolor": "white",
            "ticks": ""
           }
          },
          "scene": {
           "xaxis": {
            "backgroundcolor": "#E5ECF6",
            "gridcolor": "white",
            "gridwidth": 2,
            "linecolor": "white",
            "showbackground": true,
            "ticks": "",
            "zerolinecolor": "white"
           },
           "yaxis": {
            "backgroundcolor": "#E5ECF6",
            "gridcolor": "white",
            "gridwidth": 2,
            "linecolor": "white",
            "showbackground": true,
            "ticks": "",
            "zerolinecolor": "white"
           },
           "zaxis": {
            "backgroundcolor": "#E5ECF6",
            "gridcolor": "white",
            "gridwidth": 2,
            "linecolor": "white",
            "showbackground": true,
            "ticks": "",
            "zerolinecolor": "white"
           }
          },
          "shapedefaults": {
           "line": {
            "color": "#2a3f5f"
           }
          },
          "ternary": {
           "aaxis": {
            "gridcolor": "white",
            "linecolor": "white",
            "ticks": ""
           },
           "baxis": {
            "gridcolor": "white",
            "linecolor": "white",
            "ticks": ""
           },
           "bgcolor": "#E5ECF6",
           "caxis": {
            "gridcolor": "white",
            "linecolor": "white",
            "ticks": ""
           }
          },
          "title": {
           "x": 0.05
          },
          "xaxis": {
           "automargin": true,
           "gridcolor": "white",
           "linecolor": "white",
           "ticks": "",
           "title": {
            "standoff": 15
           },
           "zerolinecolor": "white",
           "zerolinewidth": 2
          },
          "yaxis": {
           "automargin": true,
           "gridcolor": "white",
           "linecolor": "white",
           "ticks": "",
           "title": {
            "standoff": 15
           },
           "zerolinecolor": "white",
           "zerolinewidth": 2
          }
         }
        },
        "title": {
         "text": "Long-Form Input"
        },
        "width": 800,
        "xaxis": {
         "anchor": "y",
         "domain": [
          0,
          1
         ],
         "title": {
          "text": "group"
         }
        },
        "yaxis": {
         "anchor": "x",
         "domain": [
          0,
          1
         ],
         "title": {
          "text": "count"
         }
        }
       }
      }
     },
     "metadata": {}
    }
   ],
   "metadata": {}
  },
  {
   "cell_type": "code",
   "execution_count": 401,
   "source": [
    "def multiple_replace(dict, text):\n",
    "  # Create a regular expression  from the dictionary keys\n",
    "  regex = re.compile(\"(%s)\" % \"|\".join(map(re.escape, dict.keys())))\n",
    "\n",
    "  # For each match, look-up corresponding value in dictionary\n",
    "  return regex.sub(lambda mo: dict[mo.string[mo.start():mo.end()]], text)\n",
    "\n",
    "def lemmatize_string(item):\n",
    "    #lemmatizer = WordNetLemmatizer()\n",
    "    #return ' '.join([lemmatizer.lemmatize(w) for w in item.split(' ')])\n",
    "    doc = nlp(item)\n",
    "    return ' '.join([token.lemma_ for token in doc if token.lemma_ != '-PRON-'])\n",
    "\n",
    "def stem_string(item):\n",
    "    ps = PorterStemmer()\n",
    "    return ' '.join([ps.stem(w) for w in item.split(' ')])\n",
    "\n",
    "pronouns = ['i','you','he','she','it','we','they','there','here','that']\n",
    "verbs = ['do','don','does','doesn','is','isn','are','aren','can','will','won','did','didn','would','wouldn','could','couldn']\n",
    "contractions = ['s','ve','t','re','m']\n",
    "\n",
    "contraction_list = [(p+'\\''+c) for c in contractions for p in pronouns]+[(v+'\\''+c) for c in contractions for v in verbs]\n",
    "\n",
    "contraction_dict = {}\n",
    "\n",
    "for key in contraction_list:\n",
    "    contraction_dict[key] = ''"
   ],
   "outputs": [],
   "metadata": {}
  },
  {
   "cell_type": "code",
   "execution_count": 402,
   "source": [
    "def post_clean(item):\n",
    "\n",
    "    pattern = re.compile(r'http.[^|]*')\n",
    "    string = re.sub(pattern, '', item)\n",
    "\n",
    "    pattern = re.compile(r'\\|\\|\\|')\n",
    "    string = re.sub(pattern, '', string)\n",
    "    \n",
    "    pattern = re.compile(r'[0-9]')\n",
    "    string = re.sub(pattern, '', string).lower()\n",
    "\n",
    "    mtbi_acrynym_dict = {'istj':'','isfj':'',\n",
    "                         'infj':'','intj':'',\n",
    "                         'istp':'','isfp':'',\n",
    "                         'infp':'','intp':'',\n",
    "                         'estp':'','esfp':'',\n",
    "                         'enfp':'','entp':'',\n",
    "                         'estj':'','esfj':'',\n",
    "                         'enfj':'','entj':''}\n",
    "\n",
    "    string = multiple_replace(mtbi_acrynym_dict, string)\n",
    "\n",
    "    #string6 = lemmatize(string5)\n",
    "    string = multiple_replace(contraction_dict, string)\n",
    "\n",
    "    all_punctuation_list = '''!()-[]{};:\"\\|,+<>./?@#$%^&*_~='''\n",
    "\n",
    "    punct_dict = dict()\n",
    "\n",
    "    for x in all_punctuation_list:\n",
    "        punct_dict[x] = ' '\n",
    "\n",
    "    string = multiple_replace(punct_dict, string)\n",
    "\n",
    "    return string"
   ],
   "outputs": [],
   "metadata": {}
  },
  {
   "cell_type": "code",
   "execution_count": 403,
   "source": [
    "df['posts'] = df['posts'].apply(lambda x: post_clean(x))\n",
    "print('Cleaning done!')\n",
    "\n",
    "df.loc[:,'IE_hot'] = [1 if x == 'I' else 0 for x in df['IE']]\n",
    "df.loc[:,'NS_hot'] = [1 if x == 'N' else 0 for x in df['NS']]\n",
    "df.loc[:,'TF_hot'] = [1 if x == 'T' else 0 for x in df['TF']]\n",
    "df.loc[:,'JP_hot'] = [1 if x == 'J' else 0 for x in df['JP']]\n",
    "df.head(4)"
   ],
   "outputs": [
    {
     "output_type": "stream",
     "name": "stdout",
     "text": [
      "Cleaning done!\n"
     ]
    },
    {
     "output_type": "execute_result",
     "data": {
      "text/html": [
       "<div>\n",
       "<style scoped>\n",
       "    .dataframe tbody tr th:only-of-type {\n",
       "        vertical-align: middle;\n",
       "    }\n",
       "\n",
       "    .dataframe tbody tr th {\n",
       "        vertical-align: top;\n",
       "    }\n",
       "\n",
       "    .dataframe thead th {\n",
       "        text-align: right;\n",
       "    }\n",
       "</style>\n",
       "<table border=\"1\" class=\"dataframe\">\n",
       "  <thead>\n",
       "    <tr style=\"text-align: right;\">\n",
       "      <th></th>\n",
       "      <th>type</th>\n",
       "      <th>posts</th>\n",
       "      <th>IE</th>\n",
       "      <th>NS</th>\n",
       "      <th>TF</th>\n",
       "      <th>JP</th>\n",
       "      <th>html_link</th>\n",
       "      <th>words_per_comment</th>\n",
       "      <th>exclam_mark</th>\n",
       "      <th>question_mark</th>\n",
       "      <th>IE_hot</th>\n",
       "      <th>NS_hot</th>\n",
       "      <th>TF_hot</th>\n",
       "      <th>JP_hot</th>\n",
       "    </tr>\n",
       "  </thead>\n",
       "  <tbody>\n",
       "    <tr>\n",
       "      <th>0</th>\n",
       "      <td>INFJ</td>\n",
       "      <td>' and  moments  what has been the most life changing experience in your life may the perc experience immerse you the last thing my  friend posted on his facebook before committing suicide the next day  rest in peace    hello   sorry to hear of your distress   only natural for a relationship to not be perfection all the time in every moment of existence  try to figure the hard times as times of...</td>\n",
       "      <td>I</td>\n",
       "      <td>N</td>\n",
       "      <td>F</td>\n",
       "      <td>J</td>\n",
       "      <td>0</td>\n",
       "      <td>11.56</td>\n",
       "      <td>3</td>\n",
       "      <td>18</td>\n",
       "      <td>1</td>\n",
       "      <td>1</td>\n",
       "      <td>0</td>\n",
       "      <td>1</td>\n",
       "    </tr>\n",
       "    <tr>\n",
       "      <th>1</th>\n",
       "      <td>ENTP</td>\n",
       "      <td>' finding the lack of me in these posts very alarming sex can be boring if  in the same position often  for example me and my girlfriend are currently in an environment where we have to creatively use cowgirl and missionary  there  enough   giving new meaning to 'game' theory hello   grin    all it takes  than we converse and they do most of the flirting while i acknowledge their presence and ...</td>\n",
       "      <td>E</td>\n",
       "      <td>N</td>\n",
       "      <td>T</td>\n",
       "      <td>P</td>\n",
       "      <td>0</td>\n",
       "      <td>23.88</td>\n",
       "      <td>0</td>\n",
       "      <td>5</td>\n",
       "      <td>0</td>\n",
       "      <td>1</td>\n",
       "      <td>1</td>\n",
       "      <td>0</td>\n",
       "    </tr>\n",
       "    <tr>\n",
       "      <th>2</th>\n",
       "      <td>INTP</td>\n",
       "      <td>'good one          of course  to which i say i know   my blessing and my curse does being absolutely positive that you and your best friend could be an amazing couple count  if so  than yes    or  more i could be madly in love in case i reconciled my feelings  which at   no  i   thank you for a link so called ti si loop  and it can stem from any current topic obsession  can be deadly   like wh...</td>\n",
       "      <td>I</td>\n",
       "      <td>N</td>\n",
       "      <td>T</td>\n",
       "      <td>P</td>\n",
       "      <td>0</td>\n",
       "      <td>17.38</td>\n",
       "      <td>4</td>\n",
       "      <td>12</td>\n",
       "      <td>1</td>\n",
       "      <td>1</td>\n",
       "      <td>1</td>\n",
       "      <td>0</td>\n",
       "    </tr>\n",
       "    <tr>\n",
       "      <th>3</th>\n",
       "      <td>INTJ</td>\n",
       "      <td>'dear     i enjoyed our conversation the other day   esoteric gabbing about the nature of the universe and the idea that every rule and social code being arbitrary constructs created   dear  sub    long time no see   sincerely  alphanone of them  all other types hurt in deep existential ways that i want no part of probably a sliding scale that depends on individual preferences  like everything...</td>\n",
       "      <td>I</td>\n",
       "      <td>N</td>\n",
       "      <td>T</td>\n",
       "      <td>J</td>\n",
       "      <td>0</td>\n",
       "      <td>22.02</td>\n",
       "      <td>3</td>\n",
       "      <td>11</td>\n",
       "      <td>1</td>\n",
       "      <td>1</td>\n",
       "      <td>1</td>\n",
       "      <td>1</td>\n",
       "    </tr>\n",
       "  </tbody>\n",
       "</table>\n",
       "</div>"
      ],
      "text/plain": [
       "   type  \\\n",
       "0  INFJ   \n",
       "1  ENTP   \n",
       "2  INTP   \n",
       "3  INTJ   \n",
       "\n",
       "                                                                                                                                                                                                                                                                                                                                                                                                             posts  \\\n",
       "0  ' and  moments  what has been the most life changing experience in your life may the perc experience immerse you the last thing my  friend posted on his facebook before committing suicide the next day  rest in peace    hello   sorry to hear of your distress   only natural for a relationship to not be perfection all the time in every moment of existence  try to figure the hard times as times of...   \n",
       "1  ' finding the lack of me in these posts very alarming sex can be boring if  in the same position often  for example me and my girlfriend are currently in an environment where we have to creatively use cowgirl and missionary  there  enough   giving new meaning to 'game' theory hello   grin    all it takes  than we converse and they do most of the flirting while i acknowledge their presence and ...   \n",
       "2  'good one          of course  to which i say i know   my blessing and my curse does being absolutely positive that you and your best friend could be an amazing couple count  if so  than yes    or  more i could be madly in love in case i reconciled my feelings  which at   no  i   thank you for a link so called ti si loop  and it can stem from any current topic obsession  can be deadly   like wh...   \n",
       "3  'dear     i enjoyed our conversation the other day   esoteric gabbing about the nature of the universe and the idea that every rule and social code being arbitrary constructs created   dear  sub    long time no see   sincerely  alphanone of them  all other types hurt in deep existential ways that i want no part of probably a sliding scale that depends on individual preferences  like everything...   \n",
       "\n",
       "  IE NS TF JP  html_link  words_per_comment  exclam_mark  question_mark  \\\n",
       "0  I  N  F  J          0              11.56            3             18   \n",
       "1  E  N  T  P          0              23.88            0              5   \n",
       "2  I  N  T  P          0              17.38            4             12   \n",
       "3  I  N  T  J          0              22.02            3             11   \n",
       "\n",
       "   IE_hot  NS_hot  TF_hot  JP_hot  \n",
       "0       1       1       0       1  \n",
       "1       0       1       1       0  \n",
       "2       1       1       1       0  \n",
       "3       1       1       1       1  "
      ]
     },
     "metadata": {},
     "execution_count": 403
    }
   ],
   "metadata": {}
  },
  {
   "cell_type": "code",
   "execution_count": 349,
   "source": [
    "df[['html_link', 'words_per_comment', 'exclam_mark', 'question_mark', 'IE_hot']].corr()"
   ],
   "outputs": [
    {
     "output_type": "execute_result",
     "data": {
      "text/html": [
       "<div>\n",
       "<style scoped>\n",
       "    .dataframe tbody tr th:only-of-type {\n",
       "        vertical-align: middle;\n",
       "    }\n",
       "\n",
       "    .dataframe tbody tr th {\n",
       "        vertical-align: top;\n",
       "    }\n",
       "\n",
       "    .dataframe thead th {\n",
       "        text-align: right;\n",
       "    }\n",
       "</style>\n",
       "<table border=\"1\" class=\"dataframe\">\n",
       "  <thead>\n",
       "    <tr style=\"text-align: right;\">\n",
       "      <th></th>\n",
       "      <th>html_link</th>\n",
       "      <th>words_per_comment</th>\n",
       "      <th>exclam_mark</th>\n",
       "      <th>question_mark</th>\n",
       "      <th>IE_hot</th>\n",
       "    </tr>\n",
       "  </thead>\n",
       "  <tbody>\n",
       "    <tr>\n",
       "      <th>html_link</th>\n",
       "      <td>1.000000</td>\n",
       "      <td>-0.022849</td>\n",
       "      <td>-0.001913</td>\n",
       "      <td>0.038555</td>\n",
       "      <td>-0.016849</td>\n",
       "    </tr>\n",
       "    <tr>\n",
       "      <th>words_per_comment</th>\n",
       "      <td>-0.022849</td>\n",
       "      <td>1.000000</td>\n",
       "      <td>0.051825</td>\n",
       "      <td>-0.113651</td>\n",
       "      <td>-0.006831</td>\n",
       "    </tr>\n",
       "    <tr>\n",
       "      <th>exclam_mark</th>\n",
       "      <td>-0.001913</td>\n",
       "      <td>0.051825</td>\n",
       "      <td>1.000000</td>\n",
       "      <td>0.090001</td>\n",
       "      <td>-0.141437</td>\n",
       "    </tr>\n",
       "    <tr>\n",
       "      <th>question_mark</th>\n",
       "      <td>0.038555</td>\n",
       "      <td>-0.113651</td>\n",
       "      <td>0.090001</td>\n",
       "      <td>1.000000</td>\n",
       "      <td>-0.040108</td>\n",
       "    </tr>\n",
       "    <tr>\n",
       "      <th>IE_hot</th>\n",
       "      <td>-0.016849</td>\n",
       "      <td>-0.006831</td>\n",
       "      <td>-0.141437</td>\n",
       "      <td>-0.040108</td>\n",
       "      <td>1.000000</td>\n",
       "    </tr>\n",
       "  </tbody>\n",
       "</table>\n",
       "</div>"
      ],
      "text/plain": [
       "                   html_link  words_per_comment  exclam_mark  question_mark  \\\n",
       "html_link           1.000000          -0.022849    -0.001913       0.038555   \n",
       "words_per_comment  -0.022849           1.000000     0.051825      -0.113651   \n",
       "exclam_mark        -0.001913           0.051825     1.000000       0.090001   \n",
       "question_mark       0.038555          -0.113651     0.090001       1.000000   \n",
       "IE_hot             -0.016849          -0.006831    -0.141437      -0.040108   \n",
       "\n",
       "                     IE_hot  \n",
       "html_link         -0.016849  \n",
       "words_per_comment -0.006831  \n",
       "exclam_mark       -0.141437  \n",
       "question_mark     -0.040108  \n",
       "IE_hot             1.000000  "
      ]
     },
     "metadata": {},
     "execution_count": 349
    }
   ],
   "metadata": {}
  },
  {
   "cell_type": "code",
   "execution_count": 203,
   "source": [
    "counter = 0\n",
    "\n",
    "post_list = []\n",
    "\n",
    "for post in df['posts']:\n",
    "    post_list.append(lemmatize_string(post))\n",
    "    counter = counter+1\n",
    "    if counter%100 == 0:\n",
    "        print(counter, end = ' ')"
   ],
   "outputs": [
    {
     "output_type": "stream",
     "name": "stdout",
     "text": [
      "100 200 300 400 500 600 700 800 900 1000 1100 1200 1300 1400 1500 1600 1700 1800 1900 2000 2100 2200 2300 2400 2500 2600 2700 2800 2900 3000 3100 3200 3300 3400 3500 3600 3700 3800 3900 4000 4100 4200 4300 4400 4500 4600 4700 4800 4900 5000 5100 5200 5300 5400 5500 5600 5700 5800 5900 6000 6100 6200 6300 6400 6500 6600 6700 6800 6900 7000 7100 7200 7300 7400 7500 7600 7700 7800 7900 8000 8100 8200 8300 8400 8500 8600 "
     ]
    }
   ],
   "metadata": {}
  },
  {
   "cell_type": "code",
   "execution_count": 409,
   "source": [
    "df['posts'] = post_list\n",
    "df = df[['posts','html_link','words_per_comment','exclam_mark', 'question_mark', 'IE_hot','NS_hot','TF_hot','JP_hot']]\n",
    "\n",
    "df.loc[:,'html_link'] = MinMaxScaler(feature_range=(0,1)).fit_transform(df[['html_link']])\n",
    "df.loc[:,'words_per_comment'] = MinMaxScaler(feature_range=(0,1)).fit_transform(df[['words_per_comment']])\n",
    "df.loc[:,'exclam_mark'] = MinMaxScaler(feature_range=(0,1)).fit_transform(df[['exclam_mark']])\n",
    "df.loc[:,'question_mark'] = MinMaxScaler(feature_range=(0,1)).fit_transform(df[['question_mark']])\n",
    "\n",
    "df = shuffle(df)\n",
    "\n",
    "train_df = df.iloc[:round(len(df)*0.8)]\n",
    "test_df = df.iloc[round(len(df)*0.8):]\n",
    "\n",
    "train_df.head(4)"
   ],
   "outputs": [
    {
     "output_type": "execute_result",
     "data": {
      "text/html": [
       "<div>\n",
       "<style scoped>\n",
       "    .dataframe tbody tr th:only-of-type {\n",
       "        vertical-align: middle;\n",
       "    }\n",
       "\n",
       "    .dataframe tbody tr th {\n",
       "        vertical-align: top;\n",
       "    }\n",
       "\n",
       "    .dataframe thead th {\n",
       "        text-align: right;\n",
       "    }\n",
       "</style>\n",
       "<table border=\"1\" class=\"dataframe\">\n",
       "  <thead>\n",
       "    <tr style=\"text-align: right;\">\n",
       "      <th></th>\n",
       "      <th>posts</th>\n",
       "      <th>html_link</th>\n",
       "      <th>words_per_comment</th>\n",
       "      <th>exclam_mark</th>\n",
       "      <th>question_mark</th>\n",
       "      <th>IE_hot</th>\n",
       "      <th>NS_hot</th>\n",
       "      <th>TF_hot</th>\n",
       "      <th>JP_hot</th>\n",
       "    </tr>\n",
       "  </thead>\n",
       "  <tbody>\n",
       "    <tr>\n",
       "      <th>4272</th>\n",
       "      <td>hi   i d like to change username to   fuliajulia thank    kitteh hey   so i haven t see anybody talk about but ej arendee delete channel    not start this thread to speculate about mental health or anything   but as be talk about in     damnit    why ya always get to be so soul searchy be difficult to insult because i   want to hurt     damn aura of innocence       i be interested in what type...</td>\n",
       "      <td>0.0</td>\n",
       "      <td>0.666667</td>\n",
       "      <td>0.018265</td>\n",
       "      <td>0.090909</td>\n",
       "      <td>1</td>\n",
       "      <td>1</td>\n",
       "      <td>0</td>\n",
       "      <td>0</td>\n",
       "    </tr>\n",
       "    <tr>\n",
       "      <th>3325</th>\n",
       "      <td>well   honestly   would like   and i know   that be go to heaven when i die   and go to live in eternal happiness with everyone that matter most to    definitely a the first one     have always dream of live in a medieval   chronicle of narnia type of world   p   girlfriend    lion    pet o o     medium size    no    food   kid    plastic   drink outta   waterfall    jumpi understand man   b...</td>\n",
       "      <td>0.0</td>\n",
       "      <td>0.281250</td>\n",
       "      <td>0.000000</td>\n",
       "      <td>0.049587</td>\n",
       "      <td>1</td>\n",
       "      <td>1</td>\n",
       "      <td>1</td>\n",
       "      <td>0</td>\n",
       "    </tr>\n",
       "    <tr>\n",
       "      <th>5461</th>\n",
       "      <td>can i quote mr   t   stay in school fool    wish i would have   get ged now be a semi driver money be good but not the life i want   but   the life i have to choose   i have dyslexia and    yes have be a while eylrid   be drive a semi and try to learn how to repair pattern and build box for for a foundry    have much time for anything anymore work   hour a day    wow     like the quote   sta...</td>\n",
       "      <td>0.0</td>\n",
       "      <td>0.575181</td>\n",
       "      <td>0.031963</td>\n",
       "      <td>0.057851</td>\n",
       "      <td>1</td>\n",
       "      <td>1</td>\n",
       "      <td>0</td>\n",
       "      <td>1</td>\n",
       "    </tr>\n",
       "    <tr>\n",
       "      <th>7565</th>\n",
       "      <td>i   want to date someone base just on personality type    a lot more to each individual   i can see how someone may come to the conclusion that a particular personality type would be    read look at funny stuff online   do something physical   find a new project        i hope   really just hypothetical yup   this happen to a lot   too    i   know      when i be a child i read all the time   ...</td>\n",
       "      <td>0.0</td>\n",
       "      <td>0.668478</td>\n",
       "      <td>0.063927</td>\n",
       "      <td>0.033058</td>\n",
       "      <td>1</td>\n",
       "      <td>1</td>\n",
       "      <td>1</td>\n",
       "      <td>0</td>\n",
       "    </tr>\n",
       "  </tbody>\n",
       "</table>\n",
       "</div>"
      ],
      "text/plain": [
       "                                                                                                                                                                                                                                                                                                                                                                                                                posts  \\\n",
       "4272  hi   i d like to change username to   fuliajulia thank    kitteh hey   so i haven t see anybody talk about but ej arendee delete channel    not start this thread to speculate about mental health or anything   but as be talk about in     damnit    why ya always get to be so soul searchy be difficult to insult because i   want to hurt     damn aura of innocence       i be interested in what type...   \n",
       "3325    well   honestly   would like   and i know   that be go to heaven when i die   and go to live in eternal happiness with everyone that matter most to    definitely a the first one     have always dream of live in a medieval   chronicle of narnia type of world   p   girlfriend    lion    pet o o     medium size    no    food   kid    plastic   drink outta   waterfall    jumpi understand man   b...   \n",
       "5461    can i quote mr   t   stay in school fool    wish i would have   get ged now be a semi driver money be good but not the life i want   but   the life i have to choose   i have dyslexia and    yes have be a while eylrid   be drive a semi and try to learn how to repair pattern and build box for for a foundry    have much time for anything anymore work   hour a day    wow     like the quote   sta...   \n",
       "7565    i   want to date someone base just on personality type    a lot more to each individual   i can see how someone may come to the conclusion that a particular personality type would be    read look at funny stuff online   do something physical   find a new project        i hope   really just hypothetical yup   this happen to a lot   too    i   know      when i be a child i read all the time   ...   \n",
       "\n",
       "      html_link  words_per_comment  exclam_mark  question_mark  IE_hot  \\\n",
       "4272        0.0           0.666667     0.018265       0.090909       1   \n",
       "3325        0.0           0.281250     0.000000       0.049587       1   \n",
       "5461        0.0           0.575181     0.031963       0.057851       1   \n",
       "7565        0.0           0.668478     0.063927       0.033058       1   \n",
       "\n",
       "      NS_hot  TF_hot  JP_hot  \n",
       "4272       1       0       0  \n",
       "3325       1       1       0  \n",
       "5461       1       0       1  \n",
       "7565       1       1       0  "
      ]
     },
     "metadata": {},
     "execution_count": 409
    }
   ],
   "metadata": {}
  },
  {
   "cell_type": "code",
   "execution_count": 415,
   "source": [
    "# Initialize tfidf vectorizer\n",
    "vectorizer = TfidfVectorizer(stop_words = 'english', max_df = 0.9, min_df = 0.1)\n",
    "\n",
    "vector_train = vectorizer.fit_transform(train_df['posts'])\n",
    "vector_test = vectorizer.transform(test_df['posts'])\n",
    "\n",
    "train_df2 = pd.DataFrame.sparse.from_spmatrix(vector_train, columns = vectorizer.get_feature_names()).\\\n",
    "    merge(train_df[['html_link', 'words_per_comment', 'exclam_mark','question_mark']].reset_index(), left_index = True, right_index= True).drop(columns = 'index')\n",
    "\n",
    "test_df2 = pd.DataFrame.sparse.from_spmatrix(vector_test, columns = vectorizer.get_feature_names()).\\\n",
    "    merge(test_df[['html_link', 'words_per_comment', 'exclam_mark','question_mark']].reset_index(), left_index = True, right_index= True).drop(columns = 'index')\n",
    "\n",
    "sparse_train_df = scipy.sparse.csr_matrix(train_df2.values)\n",
    "sparse_test_df = scipy.sparse.csr_matrix(test_df2.values)"
   ],
   "outputs": [],
   "metadata": {}
  },
  {
   "cell_type": "code",
   "execution_count": 416,
   "source": [
    "# IE model instance\n",
    "ie_classifier = XGBClassifier()\n",
    "ie_classifier.fit(sparse_train_df, train_df['IE_hot'])\n",
    "\n",
    "ns_classifier = XGBClassifier()\n",
    "ns_classifier.fit(sparse_train_df, train_df['NS_hot'])\n",
    "\n",
    "tf_classifier = XGBClassifier()\n",
    "tf_classifier.fit(sparse_train_df, train_df['TF_hot'])\n",
    "\n",
    "jp_classifier = XGBClassifier()\n",
    "jp_classifier.fit(sparse_train_df, train_df['JP_hot'])"
   ],
   "outputs": [
    {
     "output_type": "execute_result",
     "data": {
      "text/plain": [
       "XGBClassifier()"
      ]
     },
     "metadata": {},
     "execution_count": 416
    }
   ],
   "metadata": {}
  },
  {
   "cell_type": "code",
   "execution_count": 417,
   "source": [
    "# run predictons\n",
    "ie_pred = ie_classifier.predict(sparse_test_df)\n",
    "\n",
    "ns_pred = ns_classifier.predict(sparse_test_df)\n",
    "\n",
    "tf_pred = tf_classifier.predict(sparse_test_df)\n",
    "\n",
    "jp_pred = jp_classifier.predict(sparse_test_df)"
   ],
   "outputs": [],
   "metadata": {}
  },
  {
   "cell_type": "code",
   "execution_count": 383,
   "source": [
    "def feature_importances(classifier):\n",
    "    feature_importance_dict = {}\n",
    "    for x,y in zip(list(train_df2.columns), list(tf_classifier.feature_importances_)):\n",
    "        feature_importance_dict[x] = y\n",
    "    return {k: v for k, v in sorted(feature_importance_dict.items(), key=lambda item: item[1])}"
   ],
   "outputs": [],
   "metadata": {}
  },
  {
   "cell_type": "code",
   "execution_count": 418,
   "source": [
    "accuracy_metrics_df = pd.DataFrame()\n",
    "\n",
    "accuracy_metrics_df['Metric'] = ['accuracy', 'recall', 'precison', 'f1_score']\n",
    "\n",
    "accuracy_metrics_df.loc[:,'IE'] = [metrics.accuracy_score(test_df['IE_hot'], ie_pred),\n",
    "                                   metrics.recall_score(test_df['IE_hot'], ie_pred),\n",
    "                                   metrics.precision_score(test_df['IE_hot'], ie_pred),\n",
    "                                   metrics.f1_score(test_df['IE_hot'], ie_pred)]\n",
    "\n",
    "accuracy_metrics_df.loc[:,'NS'] = [metrics.accuracy_score(test_df['NS_hot'], ns_pred),\n",
    "                                   metrics.recall_score(test_df['NS_hot'], ns_pred),\n",
    "                                   metrics.precision_score(test_df['NS_hot'], ns_pred),\n",
    "                                   metrics.f1_score(test_df['NS_hot'], ns_pred)]\n",
    "\n",
    "accuracy_metrics_df.loc[:,'TF'] = [metrics.accuracy_score(test_df['TF_hot'], tf_pred),\n",
    "                                   metrics.recall_score(test_df['TF_hot'], tf_pred),\n",
    "                                   metrics.precision_score(test_df['TF_hot'], tf_pred),\n",
    "                                   metrics.f1_score(test_df['TF_hot'], tf_pred)]\n",
    "\n",
    "accuracy_metrics_df.loc[:,'JP'] = [metrics.accuracy_score(test_df['TF_hot'], jp_pred),\n",
    "                                   metrics.recall_score(test_df['TF_hot'], jp_pred),\n",
    "                                   metrics.precision_score(test_df['TF_hot'], jp_pred),\n",
    "                                   metrics.f1_score(test_df['TF_hot'], jp_pred)]\n",
    "\n",
    "accuracy_metrics_df"
   ],
   "outputs": [
    {
     "output_type": "execute_result",
     "data": {
      "text/html": [
       "<div>\n",
       "<style scoped>\n",
       "    .dataframe tbody tr th:only-of-type {\n",
       "        vertical-align: middle;\n",
       "    }\n",
       "\n",
       "    .dataframe tbody tr th {\n",
       "        vertical-align: top;\n",
       "    }\n",
       "\n",
       "    .dataframe thead th {\n",
       "        text-align: right;\n",
       "    }\n",
       "</style>\n",
       "<table border=\"1\" class=\"dataframe\">\n",
       "  <thead>\n",
       "    <tr style=\"text-align: right;\">\n",
       "      <th></th>\n",
       "      <th>Metric</th>\n",
       "      <th>IE</th>\n",
       "      <th>NS</th>\n",
       "      <th>TF</th>\n",
       "      <th>JP</th>\n",
       "    </tr>\n",
       "  </thead>\n",
       "  <tbody>\n",
       "    <tr>\n",
       "      <th>0</th>\n",
       "      <td>accuracy</td>\n",
       "      <td>0.761960</td>\n",
       "      <td>0.864553</td>\n",
       "      <td>0.604611</td>\n",
       "      <td>0.545821</td>\n",
       "    </tr>\n",
       "    <tr>\n",
       "      <th>1</th>\n",
       "      <td>recall</td>\n",
       "      <td>0.998488</td>\n",
       "      <td>1.000000</td>\n",
       "      <td>0.551282</td>\n",
       "      <td>0.052564</td>\n",
       "    </tr>\n",
       "    <tr>\n",
       "      <th>2</th>\n",
       "      <td>precison</td>\n",
       "      <td>0.762702</td>\n",
       "      <td>0.864553</td>\n",
       "      <td>0.561358</td>\n",
       "      <td>0.455556</td>\n",
       "    </tr>\n",
       "    <tr>\n",
       "      <th>3</th>\n",
       "      <td>f1_score</td>\n",
       "      <td>0.864812</td>\n",
       "      <td>0.927357</td>\n",
       "      <td>0.556274</td>\n",
       "      <td>0.094253</td>\n",
       "    </tr>\n",
       "  </tbody>\n",
       "</table>\n",
       "</div>"
      ],
      "text/plain": [
       "     Metric        IE        NS        TF        JP\n",
       "0  accuracy  0.761960  0.864553  0.604611  0.545821\n",
       "1    recall  0.998488  1.000000  0.551282  0.052564\n",
       "2  precison  0.762702  0.864553  0.561358  0.455556\n",
       "3  f1_score  0.864812  0.927357  0.556274  0.094253"
      ]
     },
     "metadata": {},
     "execution_count": 418
    }
   ],
   "metadata": {}
  },
  {
   "cell_type": "code",
   "execution_count": 217,
   "source": [
    "accuracy_metrics_df.round(2)"
   ],
   "outputs": [
    {
     "output_type": "execute_result",
     "data": {
      "text/html": [
       "<div>\n",
       "<style scoped>\n",
       "    .dataframe tbody tr th:only-of-type {\n",
       "        vertical-align: middle;\n",
       "    }\n",
       "\n",
       "    .dataframe tbody tr th {\n",
       "        vertical-align: top;\n",
       "    }\n",
       "\n",
       "    .dataframe thead th {\n",
       "        text-align: right;\n",
       "    }\n",
       "</style>\n",
       "<table border=\"1\" class=\"dataframe\">\n",
       "  <thead>\n",
       "    <tr style=\"text-align: right;\">\n",
       "      <th></th>\n",
       "      <th>Metric</th>\n",
       "      <th>IE</th>\n",
       "      <th>NS</th>\n",
       "      <th>TF</th>\n",
       "      <th>JP</th>\n",
       "    </tr>\n",
       "  </thead>\n",
       "  <tbody>\n",
       "    <tr>\n",
       "      <th>0</th>\n",
       "      <td>accuracy</td>\n",
       "      <td>0.78</td>\n",
       "      <td>0.85</td>\n",
       "      <td>0.75</td>\n",
       "      <td>0.51</td>\n",
       "    </tr>\n",
       "    <tr>\n",
       "      <th>1</th>\n",
       "      <td>recall</td>\n",
       "      <td>0.99</td>\n",
       "      <td>1.00</td>\n",
       "      <td>0.72</td>\n",
       "      <td>0.15</td>\n",
       "    </tr>\n",
       "    <tr>\n",
       "      <th>2</th>\n",
       "      <td>precison</td>\n",
       "      <td>0.78</td>\n",
       "      <td>0.85</td>\n",
       "      <td>0.73</td>\n",
       "      <td>0.43</td>\n",
       "    </tr>\n",
       "    <tr>\n",
       "      <th>3</th>\n",
       "      <td>f1_score</td>\n",
       "      <td>0.87</td>\n",
       "      <td>0.92</td>\n",
       "      <td>0.72</td>\n",
       "      <td>0.23</td>\n",
       "    </tr>\n",
       "  </tbody>\n",
       "</table>\n",
       "</div>"
      ],
      "text/plain": [
       "     Metric    IE    NS    TF    JP\n",
       "0  accuracy  0.78  0.85  0.75  0.51\n",
       "1    recall  0.99  1.00  0.72  0.15\n",
       "2  precison  0.78  0.85  0.73  0.43\n",
       "3  f1_score  0.87  0.92  0.72  0.23"
      ]
     },
     "metadata": {},
     "execution_count": 217
    }
   ],
   "metadata": {}
  },
  {
   "cell_type": "code",
   "execution_count": 10,
   "source": [
    "import joblib\n",
    "joblib.dump(tfidf_svc, 'mbti_model.pkl')\n",
    "joblib.dump(tfidf_vectorizer, 'tfidf_vectorizer.pkl')"
   ],
   "outputs": [
    {
     "output_type": "execute_result",
     "data": {
      "text/plain": [
       "['tfidf_vectorizer.pkl']"
      ]
     },
     "metadata": {},
     "execution_count": 10
    }
   ],
   "metadata": {}
  },
  {
   "cell_type": "code",
   "execution_count": 159,
   "source": [
    "# Write two tweets as strings, one which you want to classify as Trump and one as Trudeau\n",
    "post = ['I think this would be a great move for my career if I got that offer!']\n",
    "\n",
    "# Vectorize each tweet using the TF-IDF vectorizer's transform method\n",
    "post_vectorized = tfidf_vectorizer.transform(post)\n",
    "\n",
    "tfidf_svc.predict(post_vectorized)"
   ],
   "outputs": [
    {
     "output_type": "execute_result",
     "data": {
      "text/plain": [
       "array(['F'], dtype=object)"
      ]
     },
     "metadata": {},
     "execution_count": 159
    }
   ],
   "metadata": {}
  },
  {
   "cell_type": "code",
   "execution_count": 2,
   "source": [
    "#this is a change"
   ],
   "outputs": [],
   "metadata": {}
  },
  {
   "cell_type": "code",
   "execution_count": null,
   "source": [],
   "outputs": [],
   "metadata": {}
  }
 ],
 "metadata": {
  "orig_nbformat": 4,
  "language_info": {
   "name": "python",
   "version": "3.7.4",
   "mimetype": "text/x-python",
   "codemirror_mode": {
    "name": "ipython",
    "version": 3
   },
   "pygments_lexer": "ipython3",
   "nbconvert_exporter": "python",
   "file_extension": ".py"
  },
  "kernelspec": {
   "name": "python3",
   "display_name": "Python 3.7.4 64-bit ('base': conda)"
  },
  "interpreter": {
   "hash": "dca0ade3e726a953b501b15e8e990130d2b7799f14cfd9f4271676035ebe5511"
  }
 },
 "nbformat": 4,
 "nbformat_minor": 2
}